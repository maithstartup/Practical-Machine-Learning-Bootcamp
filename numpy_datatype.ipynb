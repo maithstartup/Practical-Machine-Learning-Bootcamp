{
  "nbformat": 4,
  "nbformat_minor": 0,
  "metadata": {
    "colab": {
      "name": "numpy_datatype.ipynb",
      "provenance": [],
      "authorship_tag": "ABX9TyPZOuB/ySAN7b0X5CVKZqWf",
      "include_colab_link": true
    },
    "kernelspec": {
      "name": "python3",
      "display_name": "Python 3"
    }
  },
  "cells": [
    {
      "cell_type": "markdown",
      "metadata": {
        "id": "view-in-github",
        "colab_type": "text"
      },
      "source": [
        "<a href=\"https://colab.research.google.com/github/maithstartup/Practical-Machine-Learning-Bootcamp/blob/master/numpy_datatype.ipynb\" target=\"_parent\"><img src=\"https://colab.research.google.com/assets/colab-badge.svg\" alt=\"Open In Colab\"/></a>"
      ]
    },
    {
      "cell_type": "markdown",
      "metadata": {
        "id": "YMm7-PCLKlUO",
        "colab_type": "text"
      },
      "source": [
        "Numpy **Data Types**"
      ]
    },
    {
      "cell_type": "code",
      "metadata": {
        "id": "A6kWjHrqKqyB",
        "colab_type": "code",
        "colab": {}
      },
      "source": [
        "import numpy as np\n",
        "import pandas as pd"
      ],
      "execution_count": 0,
      "outputs": []
    },
    {
      "cell_type": "code",
      "metadata": {
        "id": "6fiWWWA_LOku",
        "colab_type": "code",
        "colab": {}
      },
      "source": [
        "arr=np.array([0,1,2])"
      ],
      "execution_count": 0,
      "outputs": []
    },
    {
      "cell_type": "code",
      "metadata": {
        "id": "1uGNr_QcMchK",
        "colab_type": "code",
        "colab": {
          "base_uri": "https://localhost:8080/",
          "height": 34
        },
        "outputId": "03a6cc0e-aef6-4a7d-fdbd-b104868d613e"
      },
      "source": [
        "arr"
      ],
      "execution_count": 3,
      "outputs": [
        {
          "output_type": "execute_result",
          "data": {
            "text/plain": [
              "array([0, 1, 2])"
            ]
          },
          "metadata": {
            "tags": []
          },
          "execution_count": 3
        }
      ]
    },
    {
      "cell_type": "markdown",
      "metadata": {
        "id": "kLpSf0DFMd4R",
        "colab_type": "text"
      },
      "source": [
        "**Attributes of array**\n",
        "\n",
        "\n",
        "\n",
        "\n",
        "\n",
        "\n",
        "\n",
        "1.   ndim\n",
        "2.   shape\n",
        "\n",
        "1.   size\n",
        "2.   dtype\n",
        "\n",
        "1.   itemsize\n",
        "2.   data\n",
        "\n",
        "\n",
        "\n",
        "\n",
        "\n",
        "\n",
        "\n",
        "\n",
        "\n",
        "\n",
        "\n",
        "\n"
      ]
    },
    {
      "cell_type": "code",
      "metadata": {
        "id": "LPccTtHxMQYc",
        "colab_type": "code",
        "colab": {
          "base_uri": "https://localhost:8080/",
          "height": 34
        },
        "outputId": "b08d04c2-32ce-41fb-a5af-14dc35f6a6aa"
      },
      "source": [
        "arr.ndim"
      ],
      "execution_count": 4,
      "outputs": [
        {
          "output_type": "execute_result",
          "data": {
            "text/plain": [
              "1"
            ]
          },
          "metadata": {
            "tags": []
          },
          "execution_count": 4
        }
      ]
    },
    {
      "cell_type": "code",
      "metadata": {
        "id": "6vrjcy_fMovO",
        "colab_type": "code",
        "colab": {
          "base_uri": "https://localhost:8080/",
          "height": 34
        },
        "outputId": "1063da56-7958-44dd-9b3c-d946896d90c1"
      },
      "source": [
        "arr.shape"
      ],
      "execution_count": 5,
      "outputs": [
        {
          "output_type": "execute_result",
          "data": {
            "text/plain": [
              "(3,)"
            ]
          },
          "metadata": {
            "tags": []
          },
          "execution_count": 5
        }
      ]
    },
    {
      "cell_type": "code",
      "metadata": {
        "id": "wvAPJerlMs7E",
        "colab_type": "code",
        "colab": {
          "base_uri": "https://localhost:8080/",
          "height": 34
        },
        "outputId": "22ef248c-eebf-4bdd-8baf-d3aa1f9f8e62"
      },
      "source": [
        "arr.size"
      ],
      "execution_count": 6,
      "outputs": [
        {
          "output_type": "execute_result",
          "data": {
            "text/plain": [
              "3"
            ]
          },
          "metadata": {
            "tags": []
          },
          "execution_count": 6
        }
      ]
    },
    {
      "cell_type": "code",
      "metadata": {
        "id": "J4AjYS5RMv3c",
        "colab_type": "code",
        "colab": {
          "base_uri": "https://localhost:8080/",
          "height": 34
        },
        "outputId": "6f8f5753-228d-4834-bfac-59ef41a478b4"
      },
      "source": [
        "arr.dtype"
      ],
      "execution_count": 7,
      "outputs": [
        {
          "output_type": "execute_result",
          "data": {
            "text/plain": [
              "dtype('int64')"
            ]
          },
          "metadata": {
            "tags": []
          },
          "execution_count": 7
        }
      ]
    },
    {
      "cell_type": "code",
      "metadata": {
        "id": "l7B9ljUrMs9g",
        "colab_type": "code",
        "colab": {
          "base_uri": "https://localhost:8080/",
          "height": 34
        },
        "outputId": "969d689d-41d7-43b4-b9a8-e89f857ed382"
      },
      "source": [
        "arr.itemsize"
      ],
      "execution_count": 8,
      "outputs": [
        {
          "output_type": "execute_result",
          "data": {
            "text/plain": [
              "8"
            ]
          },
          "metadata": {
            "tags": []
          },
          "execution_count": 8
        }
      ]
    },
    {
      "cell_type": "code",
      "metadata": {
        "id": "BN7K10Z4MtAZ",
        "colab_type": "code",
        "colab": {
          "base_uri": "https://localhost:8080/",
          "height": 34
        },
        "outputId": "cc195a85-bc62-4184-991a-c32125c76d19"
      },
      "source": [
        "arr.data"
      ],
      "execution_count": 9,
      "outputs": [
        {
          "output_type": "execute_result",
          "data": {
            "text/plain": [
              "<memory at 0x7fbc81324dc8>"
            ]
          },
          "metadata": {
            "tags": []
          },
          "execution_count": 9
        }
      ]
    },
    {
      "cell_type": "code",
      "metadata": {
        "id": "eUHBcnGxMtDx",
        "colab_type": "code",
        "colab": {
          "base_uri": "https://localhost:8080/",
          "height": 580
        },
        "outputId": "576367e1-c2e7-41a6-876b-6367dc3f8373"
      },
      "source": [
        "datatypes"
      ],
      "execution_count": 12,
      "outputs": [
        {
          "output_type": "execute_result",
          "data": {
            "text/html": [
              "<div>\n",
              "<style scoped>\n",
              "    .dataframe tbody tr th:only-of-type {\n",
              "        vertical-align: middle;\n",
              "    }\n",
              "\n",
              "    .dataframe tbody tr th {\n",
              "        vertical-align: top;\n",
              "    }\n",
              "\n",
              "    .dataframe thead th {\n",
              "        text-align: right;\n",
              "    }\n",
              "</style>\n",
              "<table border=\"1\" class=\"dataframe\">\n",
              "  <thead>\n",
              "    <tr style=\"text-align: right;\">\n",
              "      <th></th>\n",
              "      <th>Type</th>\n",
              "      <th>Type Code</th>\n",
              "    </tr>\n",
              "  </thead>\n",
              "  <tbody>\n",
              "    <tr>\n",
              "      <th>0</th>\n",
              "      <td>int8</td>\n",
              "      <td>i1</td>\n",
              "    </tr>\n",
              "    <tr>\n",
              "      <th>1</th>\n",
              "      <td>uint8</td>\n",
              "      <td>u1</td>\n",
              "    </tr>\n",
              "    <tr>\n",
              "      <th>2</th>\n",
              "      <td>int16</td>\n",
              "      <td>i2</td>\n",
              "    </tr>\n",
              "    <tr>\n",
              "      <th>3</th>\n",
              "      <td>uint16</td>\n",
              "      <td>u2</td>\n",
              "    </tr>\n",
              "    <tr>\n",
              "      <th>4</th>\n",
              "      <td>int or int32</td>\n",
              "      <td>i4 or i</td>\n",
              "    </tr>\n",
              "    <tr>\n",
              "      <th>5</th>\n",
              "      <td>uint32</td>\n",
              "      <td>u4</td>\n",
              "    </tr>\n",
              "    <tr>\n",
              "      <th>6</th>\n",
              "      <td>int64</td>\n",
              "      <td>i8</td>\n",
              "    </tr>\n",
              "    <tr>\n",
              "      <th>7</th>\n",
              "      <td>uint64</td>\n",
              "      <td>u8</td>\n",
              "    </tr>\n",
              "    <tr>\n",
              "      <th>8</th>\n",
              "      <td>float16</td>\n",
              "      <td>f2</td>\n",
              "    </tr>\n",
              "    <tr>\n",
              "      <th>9</th>\n",
              "      <td>float32</td>\n",
              "      <td>f4 or f</td>\n",
              "    </tr>\n",
              "    <tr>\n",
              "      <th>10</th>\n",
              "      <td>float or float64</td>\n",
              "      <td>f8 or d</td>\n",
              "    </tr>\n",
              "    <tr>\n",
              "      <th>11</th>\n",
              "      <td>float128</td>\n",
              "      <td>f16 or g</td>\n",
              "    </tr>\n",
              "    <tr>\n",
              "      <th>12</th>\n",
              "      <td>complex64</td>\n",
              "      <td>c8</td>\n",
              "    </tr>\n",
              "    <tr>\n",
              "      <th>13</th>\n",
              "      <td>complex or complex128</td>\n",
              "      <td>c16</td>\n",
              "    </tr>\n",
              "    <tr>\n",
              "      <th>14</th>\n",
              "      <td>bool</td>\n",
              "      <td>None</td>\n",
              "    </tr>\n",
              "    <tr>\n",
              "      <th>15</th>\n",
              "      <td>object</td>\n",
              "      <td>O</td>\n",
              "    </tr>\n",
              "    <tr>\n",
              "      <th>16</th>\n",
              "      <td>string_</td>\n",
              "      <td>S</td>\n",
              "    </tr>\n",
              "    <tr>\n",
              "      <th>17</th>\n",
              "      <td>unicode_</td>\n",
              "      <td>U</td>\n",
              "    </tr>\n",
              "  </tbody>\n",
              "</table>\n",
              "</div>"
            ],
            "text/plain": [
              "                     Type Type Code\n",
              "0                    int8        i1\n",
              "1                   uint8        u1\n",
              "2                   int16        i2\n",
              "3                  uint16        u2\n",
              "4            int or int32   i4 or i\n",
              "5                  uint32        u4\n",
              "6                   int64        i8\n",
              "7                  uint64        u8\n",
              "8                 float16        f2\n",
              "9                 float32   f4 or f\n",
              "10       float or float64   f8 or d\n",
              "11               float128  f16 or g\n",
              "12              complex64        c8\n",
              "13  complex or complex128       c16\n",
              "14                   bool      None\n",
              "15                 object         O\n",
              "16                string_         S\n",
              "17               unicode_         U"
            ]
          },
          "metadata": {
            "tags": []
          },
          "execution_count": 12
        }
      ]
    },
    {
      "cell_type": "markdown",
      "metadata": {
        "id": "3LaI4_VmN_X1",
        "colab_type": "text"
      },
      "source": [
        "Playing with Datatypes"
      ]
    },
    {
      "cell_type": "code",
      "metadata": {
        "id": "BEyLJatFN2O1",
        "colab_type": "code",
        "colab": {}
      },
      "source": [
        "arr_1=np.array([0,1,2],dtype=np.float32)"
      ],
      "execution_count": 0,
      "outputs": []
    },
    {
      "cell_type": "code",
      "metadata": {
        "id": "k9xBCvfIN2Sc",
        "colab_type": "code",
        "colab": {
          "base_uri": "https://localhost:8080/",
          "height": 34
        },
        "outputId": "156f6247-b556-4c14-a017-ff02e96b2481"
      },
      "source": [
        "arr_1.dtype"
      ],
      "execution_count": 14,
      "outputs": [
        {
          "output_type": "execute_result",
          "data": {
            "text/plain": [
              "dtype('float32')"
            ]
          },
          "metadata": {
            "tags": []
          },
          "execution_count": 14
        }
      ]
    },
    {
      "cell_type": "code",
      "metadata": {
        "id": "n_74I3oOOXwH",
        "colab_type": "code",
        "colab": {}
      },
      "source": [
        "arr_2=np.array([0,1,0,1,1],dtype=np.bool_)"
      ],
      "execution_count": 0,
      "outputs": []
    },
    {
      "cell_type": "code",
      "metadata": {
        "id": "781yVB02Oidu",
        "colab_type": "code",
        "colab": {
          "base_uri": "https://localhost:8080/",
          "height": 50
        },
        "outputId": "f23341ee-6f1b-4abd-ae9c-3d3040599e9f"
      },
      "source": [
        "print(arr_2)\n",
        "print(arr_2.dtype)"
      ],
      "execution_count": 16,
      "outputs": [
        {
          "output_type": "stream",
          "text": [
            "[False  True False  True  True]\n",
            "bool\n"
          ],
          "name": "stdout"
        }
      ]
    },
    {
      "cell_type": "code",
      "metadata": {
        "id": "J_Ti40jKPwDi",
        "colab_type": "code",
        "colab": {
          "base_uri": "https://localhost:8080/",
          "height": 34
        },
        "outputId": "59e18863-d0b8-4f7e-8c17-d44f079ddf46"
      },
      "source": [
        "arr_3 = np.array([3+2j, 3-7j], dtype=np.complex64)\n",
        "arr_3.dtype"
      ],
      "execution_count": 17,
      "outputs": [
        {
          "output_type": "execute_result",
          "data": {
            "text/plain": [
              "dtype('complex64')"
            ]
          },
          "metadata": {
            "tags": []
          },
          "execution_count": 17
        }
      ]
    },
    {
      "cell_type": "code",
      "metadata": {
        "id": "mYJaCnQKQNSA",
        "colab_type": "code",
        "colab": {
          "base_uri": "https://localhost:8080/",
          "height": 50
        },
        "outputId": "6878d0df-7349-4907-da08-369d1443ba4c"
      },
      "source": [
        "arr_4=np.array([\"he\",\"welcome\",\"to\",\"ml\",\"course\"])\n",
        "print(arr_4.dtype)\n",
        "print(arr_4)"
      ],
      "execution_count": 18,
      "outputs": [
        {
          "output_type": "stream",
          "text": [
            "<U7\n",
            "['he' 'welcome' 'to' 'ml' 'course']\n"
          ],
          "name": "stdout"
        }
      ]
    },
    {
      "cell_type": "code",
      "metadata": {
        "id": "Z0MvAphtQUSh",
        "colab_type": "code",
        "colab": {
          "base_uri": "https://localhost:8080/",
          "height": 50
        },
        "outputId": "9ee399a5-0694-46a4-be7f-3874ce5f777e"
      },
      "source": [
        "arr_4=np.array([\"he\",\"welcome\",\"to\",\"ml\",\"course\"],dtype=np.string_)\n",
        "print(arr_4.dtype)\n",
        "print(arr_4)"
      ],
      "execution_count": 19,
      "outputs": [
        {
          "output_type": "stream",
          "text": [
            "|S7\n",
            "[b'he' b'welcome' b'to' b'ml' b'course']\n"
          ],
          "name": "stdout"
        }
      ]
    },
    {
      "cell_type": "markdown",
      "metadata": {
        "id": "REhnIddGRNOi",
        "colab_type": "text"
      },
      "source": [
        "Conversion\n",
        "\n",
        "astype"
      ]
    },
    {
      "cell_type": "code",
      "metadata": {
        "id": "as_3SI4hRMPZ",
        "colab_type": "code",
        "colab": {
          "base_uri": "https://localhost:8080/",
          "height": 67
        },
        "outputId": "6c2318a7-cfd8-43a4-dc66-7a8bfd9c00e4"
      },
      "source": [
        "arr_5 = np.array([1,2,3], dtype='int16')\n",
        "print('Original Data Type: ' + str(arr_5.dtype))\n",
        "\n",
        "arr_5 = arr_5.astype(np.float32)\n",
        "print('Data Type After Conversion: ' + str(arr_5.dtype))\n",
        "print(arr_5)"
      ],
      "execution_count": 20,
      "outputs": [
        {
          "output_type": "stream",
          "text": [
            "Original Data Type: int16\n",
            "Data Type After Conversion: float32\n",
            "[1. 2. 3.]\n"
          ],
          "name": "stdout"
        }
      ]
    },
    {
      "cell_type": "code",
      "metadata": {
        "id": "deknTSXERcJO",
        "colab_type": "code",
        "colab": {
          "base_uri": "https://localhost:8080/",
          "height": 67
        },
        "outputId": "b1cd635c-f70e-45c2-a53f-0ef6a38a1915"
      },
      "source": [
        "arr_6 = np.array([1,2,3], dtype='int16')\n",
        "print('Original Data Type: ' + str(arr_6.dtype))\n",
        "\n",
        "arr_6 = arr_6.astype(np.bool_)\n",
        "print('Data Type After Conversion: ' + str(arr_6.dtype))\n",
        "print(arr_6)"
      ],
      "execution_count": 22,
      "outputs": [
        {
          "output_type": "stream",
          "text": [
            "Original Data Type: int16\n",
            "Data Type After Conversion: bool\n",
            "[ True  True  True]\n"
          ],
          "name": "stdout"
        }
      ]
    },
    {
      "cell_type": "code",
      "metadata": {
        "id": "ngwq8vHUR3ZR",
        "colab_type": "code",
        "colab": {
          "base_uri": "https://localhost:8080/",
          "height": 67
        },
        "outputId": "69a59b74-dd5d-4cc3-a00f-34bde2b918f6"
      },
      "source": [
        "arr_7 = np.array([126,130,258], dtype='int16')\n",
        "print('Original Data Type: ' + str(arr_7.dtype))\n",
        "\n",
        "# Range of int8 [-128, 127], 258 overflows after conversion\n",
        "\n",
        "arr_7 = arr_7.astype(np.int8)\n",
        "print('Data Type After Conversion: ' + str(arr_7.dtype))\n",
        "print(arr_7)"
      ],
      "execution_count": 23,
      "outputs": [
        {
          "output_type": "stream",
          "text": [
            "Original Data Type: int16\n",
            "Data Type After Conversion: int8\n",
            "[ 126 -126    2]\n"
          ],
          "name": "stdout"
        }
      ]
    },
    {
      "cell_type": "markdown",
      "metadata": {
        "id": "FfrGYa2aQ_4M",
        "colab_type": "text"
      },
      "source": [
        "[Data Types](https://numpy.org/doc/stable/reference/arrays.dtypes.html#arrays-dtypes)\n",
        "\n",
        "[Byteorder](https://numpy.org/doc/stable/reference/generated/numpy.dtype.byteorder.html)"
      ]
    },
    {
      "cell_type": "code",
      "metadata": {
        "id": "GGTG4wY8KsmM",
        "colab_type": "code",
        "colab": {}
      },
      "source": [
        "datatypes = pd.DataFrame(\n",
        "    {\n",
        "        'Type': [\n",
        "            'int8', \n",
        "            'uint8', \n",
        "            'int16', \n",
        "            'uint16', \n",
        "            'int or int32', \n",
        "            'uint32', \n",
        "            'int64', \n",
        "            'uint64', \n",
        "            'float16', \n",
        "            'float32', \n",
        "            'float or float64',\n",
        "            'float128', \n",
        "            'complex64', \n",
        "            'complex or complex128', \n",
        "            'bool', \n",
        "            'object', \n",
        "            'string_',\n",
        "            'unicode_',\n",
        "        ],\n",
        "        \n",
        "        'Type Code': [\n",
        "            'i1', \n",
        "            'u1', \n",
        "            'i2', \n",
        "            'u2', \n",
        "            'i4 or i', \n",
        "            'u4', \n",
        "            'i8', \n",
        "            'u8', \n",
        "            'f2', \n",
        "            'f4 or f', \n",
        "            'f8 or d', \n",
        "            'f16 or g', \n",
        "            'c8', \n",
        "            'c16', \n",
        "            None, \n",
        "            'O', \n",
        "            'S', \n",
        "            'U',\n",
        "        ]\n",
        "    }\n",
        ")"
      ],
      "execution_count": 0,
      "outputs": []
    },
    {
      "cell_type": "code",
      "metadata": {
        "id": "z6B5cDIXMrjG",
        "colab_type": "code",
        "colab": {}
      },
      "source": [
        ""
      ],
      "execution_count": 0,
      "outputs": []
    }
  ]
}